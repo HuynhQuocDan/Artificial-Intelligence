{
  "nbformat": 4,
  "nbformat_minor": 0,
  "metadata": {
    "colab": {
      "provenance": [],
      "mount_file_id": "1Iu_L0emYG-p8ZOWeDoR_AwdQwdyoiBJU",
      "authorship_tag": "ABX9TyM3zJRl6ru9u9q6m+Brs/54",
      "include_colab_link": true
    },
    "kernelspec": {
      "name": "python3",
      "display_name": "Python 3"
    },
    "language_info": {
      "name": "python"
    }
  },
  "cells": [
    {
      "cell_type": "markdown",
      "metadata": {
        "id": "view-in-github",
        "colab_type": "text"
      },
      "source": [
        "<a href=\"https://colab.research.google.com/github/HuynhQuocDan/Artificial-Intelligence/blob/main/week12_MFCC.ipynb\" target=\"_parent\"><img src=\"https://colab.research.google.com/assets/colab-badge.svg\" alt=\"Open In Colab\"/></a>"
      ]
    },
    {
      "cell_type": "code",
      "source": [
        "pip install python_speech_features"
      ],
      "metadata": {
        "colab": {
          "base_uri": "https://localhost:8080/"
        },
        "id": "WbuCg_VccauN",
        "outputId": "ef3ba61e-1f59-4535-c909-7b45671ddf70"
      },
      "execution_count": 3,
      "outputs": [
        {
          "output_type": "stream",
          "name": "stdout",
          "text": [
            "Looking in indexes: https://pypi.org/simple, https://us-python.pkg.dev/colab-wheels/public/simple/\n",
            "Collecting python_speech_features\n",
            "  Downloading python_speech_features-0.6.tar.gz (5.6 kB)\n",
            "  Preparing metadata (setup.py) ... \u001b[?25l\u001b[?25hdone\n",
            "Building wheels for collected packages: python_speech_features\n",
            "  Building wheel for python_speech_features (setup.py) ... \u001b[?25l\u001b[?25hdone\n",
            "  Created wheel for python_speech_features: filename=python_speech_features-0.6-py3-none-any.whl size=5886 sha256=71b37a90d0a63cd86d02cc6fd83c4db83d3de4eddb3a50cd75e2b77ea46e4f41\n",
            "  Stored in directory: /root/.cache/pip/wheels/09/a1/04/08e2688d2562d8f9ff89e77c6ddfbf7268e07dae1a6f22455e\n",
            "Successfully built python_speech_features\n",
            "Installing collected packages: python_speech_features\n",
            "Successfully installed python_speech_features-0.6\n"
          ]
        }
      ]
    },
    {
      "cell_type": "code",
      "execution_count": 7,
      "metadata": {
        "colab": {
          "base_uri": "https://localhost:8080/",
          "height": 563
        },
        "id": "obdWYIvXZfSe",
        "outputId": "6aeedf92-99b0-4850-857d-52a5b8bb980d"
      },
      "outputs": [
        {
          "output_type": "stream",
          "name": "stderr",
          "text": [
            "WARNING:root:frame length (600) is greater than FFT size (512), frame will be truncated. Increase NFFT to avoid.\n"
          ]
        },
        {
          "output_type": "stream",
          "name": "stdout",
          "text": [
            "\n",
            "MFCC:\n",
            " Number of windows =  11\n",
            "Length of each feature:  13\n"
          ]
        },
        {
          "output_type": "execute_result",
          "data": {
            "text/plain": [
              "Text(0.5, 1.0, 'MFCC')"
            ]
          },
          "metadata": {},
          "execution_count": 7
        },
        {
          "output_type": "display_data",
          "data": {
            "text/plain": [
              "<Figure size 406.154x480 with 1 Axes>"
            ],
            "image/png": "[encoded data removed]"
          },
          "metadata": {}
        }
      ],
      "source": [
        "import numpy as np\n",
        "import matplotlib.pyplot as plt\n",
        "from scipy.io import wavfile\n",
        "from python_speech_features import mfcc, logfbank\n",
        "frequency_sample, audio_signal = wavfile.read('/content/drive/MyDrive/MonHoc_AI/bird.wav')\n",
        "audio_signal = audio_signal[:1500]\n",
        "feature_mfcc = mfcc (audio_signal,frequency_sample)\n",
        "print('\\nMFCC:\\n Number of windows = ', feature_mfcc.shape[0])\n",
        "print('Length of each feature: ', feature_mfcc.shape[1])\n",
        "feature_mfcc = feature_mfcc.T\n",
        "plt.matshow(feature_mfcc)\n",
        "plt.title('MFCC')\n"
      ]
    },
    {
      "cell_type": "code",
      "source": [
        "filterbank_feature = logfbank(audio_signal, frequency_sample)\n",
        "print('\\nFilter bank: \\n Number of windows =', filterbank_feature.shape[0])\n",
        "print('Length of each feature: ', filterbank_feature.shape[1])\n",
        "filterbank_feature = filterbank_feature.T\n",
        "plt.matshow(filterbank_feature)\n",
        "plt.title('filter bank')\n",
        "plt.show()"
      ],
      "metadata": {
        "colab": {
          "base_uri": "https://localhost:8080/",
          "height": 907
        },
        "id": "Gqiw9MJXbGNe",
        "outputId": "ae40f880-bf44-4912-d9a5-25c55ef50ac5"
      },
      "execution_count": 8,
      "outputs": [
        {
          "output_type": "stream",
          "name": "stderr",
          "text": [
            "WARNING:root:frame length (600) is greater than FFT size (512), frame will be truncated. Increase NFFT to avoid.\n"
          ]
        },
        {
          "output_type": "stream",
          "name": "stdout",
          "text": [
            "\n",
            "Filter bank: \n",
            " Number of windows = 11\n",
            "Length of each feature:  26\n"
          ]
        },
        {
          "output_type": "display_data",
          "data": {
            "text/plain": [
              "<Figure size 400x945.455 with 1 Axes>"
            ],
            "image/png": "[encoded data removed]"
          },
          "metadata": {}
        }
      ]
    },
    {
      "cell_type": "code",
      "source": [
        "import numpy as np\n",
        "import matplotlib.pyplot as plt\n",
        "from scipy.io import wavfile\n",
        "from python_speech_features import mfcc, logfbank\n",
        "frequency_sample, audio_signal = wavfile.read('/content/drive/MyDrive/MonHoc_AI/lion.wav')\n",
        "audio_signal = audio_signal[:1500]\n",
        "feature_mfcc = mfcc (audio_signal,frequency_sample)\n",
        "print('\\nMFCC:\\n Number of windows = ', feature_mfcc.shape[0])\n",
        "print('Length of each feature: ', feature_mfcc.shape[1])\n",
        "feature_mfcc = feature_mfcc.T\n",
        "plt.matshow(feature_mfcc)\n",
        "plt.title('MFCC')"
      ],
      "metadata": {
        "colab": {
          "base_uri": "https://localhost:8080/",
          "height": 563
        },
        "id": "uN1EVSYXdXQ-",
        "outputId": "2ad94000-b19c-4ab7-efa2-d2602fbd63a7"
      },
      "execution_count": 12,
      "outputs": [
        {
          "output_type": "stream",
          "name": "stderr",
          "text": [
            "WARNING:root:frame length (600) is greater than FFT size (512), frame will be truncated. Increase NFFT to avoid.\n"
          ]
        },
        {
          "output_type": "stream",
          "name": "stdout",
          "text": [
            "\n",
            "MFCC:\n",
            " Number of windows =  11\n",
            "Length of each feature:  13\n"
          ]
        },
        {
          "output_type": "execute_result",
          "data": {
            "text/plain": [
              "Text(0.5, 1.0, 'MFCC')"
            ]
          },
          "metadata": {},
          "execution_count": 12
        },
        {
          "output_type": "display_data",
          "data": {
            "text/plain": [
              "<Figure size 406.154x480 with 1 Axes>"
            ],
            "image/png": "[encoded data removed]"
          },
          "metadata": {}
        }
      ]
    },
    {
      "cell_type": "code",
      "source": [
        "filterbank_feature = logfbank(audio_signal, frequency_sample)\n",
        "print('\\nFilter bank: \\n Number of windows =', filterbank_feature.shape[0])\n",
        "print('Length of each feature: ', filterbank_feature.shape[1])\n",
        "filterbank_feature = filterbank_feature.T\n",
        "plt.matshow(filterbank_feature)\n",
        "plt.title('filter bank')\n",
        "plt.show()"
      ],
      "metadata": {
        "colab": {
          "base_uri": "https://localhost:8080/",
          "height": 907
        },
        "id": "00fsKYA1erNX",
        "outputId": "9e0ba9df-f3b3-499e-860f-d0f8c30213be"
      },
      "execution_count": 13,
      "outputs": [
        {
          "output_type": "stream",
          "name": "stderr",
          "text": [
            "WARNING:root:frame length (600) is greater than FFT size (512), frame will be truncated. Increase NFFT to avoid.\n"
          ]
        },
        {
          "output_type": "stream",
          "name": "stdout",
          "text": [
            "\n",
            "Filter bank: \n",
            " Number of windows = 11\n",
            "Length of each feature:  26\n"
          ]
        },
        {
          "output_type": "display_data",
          "data": {
            "text/plain": [
              "<Figure size 400x945.455 with 1 Axes>"
            ],
            "image/png": "[encoded data removed]"
          },
          "metadata": {}
        }
      ]
    },
    {
      "cell_type": "code",
      "source": [
        "import numpy as np\n",
        "import matplotlib.pyplot as plt\n",
        "from scipy.io import wavfile\n",
        "from python_speech_features import mfcc, logfbank\n",
        "frequency_sample, audio_signal = wavfile.read('/content/drive/MyDrive/MonHoc_AI/lion.wav')\n",
        "audio_signal = audio_signal[:1500]\n",
        "feature_mfcc = mfcc (audio_signal,frequency_sample)\n",
        "print('\\nMFCC:\\n Number of windows = ', feature_mfcc.shape[0])\n",
        "print('Length of each feature: ', feature_mfcc.shape[1])\n",
        "feature_mfcc = feature_mfcc.T\n",
        "\n",
        "filterbank_feature = logfbank(audio_signal, frequency_sample)\n",
        "print('\\nFilter bank: \\n Number of windows =', filterbank_feature.shape[0])\n",
        "print('Length of each feature: ', filterbank_feature.shape[1])\n",
        "filterbank_feature = filterbank_feature.T\n",
        "plt.matshow(filterbank_feature)\n",
        "plt.title('filter bank')\n",
        "plt.show()"
      ],
      "metadata": {
        "id": "zcK0Svtiff4S"
      },
      "execution_count": null,
      "outputs": []
    }
  ]
}