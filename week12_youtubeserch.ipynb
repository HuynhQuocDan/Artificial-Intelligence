{
  "nbformat": 4,
  "nbformat_minor": 0,
  "metadata": {
    "colab": {
      "provenance": [],
      "authorship_tag": "ABX9TyPL9sbwZ6FCmt0DmhgLysZ7",
      "include_colab_link": true
    },
    "kernelspec": {
      "name": "python3",
      "display_name": "Python 3"
    },
    "language_info": {
      "name": "python"
    }
  },
  "cells": [
    {
      "cell_type": "markdown",
      "metadata": {
        "id": "view-in-github",
        "colab_type": "text"
      },
      "source": [
        "<a href=\"https://colab.research.google.com/github/HuynhQuocDan/Artificial-Intelligence/blob/main/week12_youtubeserch.ipynb\" target=\"_parent\"><img src=\"https://colab.research.google.com/assets/colab-badge.svg\" alt=\"Open In Colab\"/></a>"
      ]
    },
    {
      "cell_type": "code",
      "source": [
        "pip install youtube-search"
      ],
      "metadata": {
        "colab": {
          "base_uri": "https://localhost:8080/"
        },
        "id": "Ync-PGeR9YZt",
        "outputId": "3c0dbefa-4bee-441c-c41e-1b89edba62d3"
      },
      "execution_count": 5,
      "outputs": [
        {
          "output_type": "stream",
          "name": "stdout",
          "text": [
            "Looking in indexes: https://pypi.org/simple, https://us-python.pkg.dev/colab-wheels/public/simple/\n",
            "Collecting youtube-search\n",
            "  Downloading youtube_search-2.1.2-py3-none-any.whl (3.4 kB)\n",
            "Requirement already satisfied: requests in /usr/local/lib/python3.9/dist-packages (from youtube-search) (2.27.1)\n",
            "Requirement already satisfied: certifi>=2017.4.17 in /usr/local/lib/python3.9/dist-packages (from requests->youtube-search) (2022.12.7)\n",
            "Requirement already satisfied: charset-normalizer~=2.0.0 in /usr/local/lib/python3.9/dist-packages (from requests->youtube-search) (2.0.12)\n",
            "Requirement already satisfied: urllib3<1.27,>=1.21.1 in /usr/local/lib/python3.9/dist-packages (from requests->youtube-search) (1.26.15)\n",
            "Requirement already satisfied: idna<4,>=2.5 in /usr/local/lib/python3.9/dist-packages (from requests->youtube-search) (3.4)\n",
            "Installing collected packages: youtube-search\n",
            "Successfully installed youtube-search-2.1.2\n"
          ]
        }
      ]
    },
    {
      "cell_type": "code",
      "execution_count": 17,
      "metadata": {
        "colab": {
          "base_uri": "https://localhost:8080/"
        },
        "id": "9UuEUXww7qiW",
        "outputId": "608e41c1-c43e-470b-ef85-44ff93412540"
      },
      "outputs": [
        {
          "output_type": "stream",
          "name": "stdout",
          "text": [
            "Nhap Vao Ten Bai Hat: all of me\n",
            "[{'id': '450p7goxZqg', 'thumbnails': ['https://i.ytimg.com/vi/450p7goxZqg/hq720.jpg?sqp=-oaymwEjCOgCEMoBSFryq4qpAxUIARUAAAAAGAElAADIQj0AgKJDeAE=&rs=AOn4CLBhh5Dc_8AE5M1iq_weLSud3gL-TQ', 'https://i.ytimg.com/vi/450p7goxZqg/hq720.jpg?sqp=-oaymwEXCNAFEJQDSFryq4qpAwkIARUAAIhCGAE=&rs=AOn4CLCqtbPwuJ1iGtgfjEeFvNbpVDVTrQ'], 'title': 'John Legend - All of Me (Official Video)', 'long_desc': None, 'channel': 'John Legend', 'duration': '5:08', 'views': '2,271,169,120 views', 'publish_time': '9 years ago', 'url_suffix': '/watch?v=450p7goxZqg&pp=ygUJYWxsIG9mIG1l'}, {'id': '1kcdLXTPVpU', 'thumbnails': ['https://i.ytimg.com/vi/1kcdLXTPVpU/hq720.jpg?sqp=-oaymwEjCOgCEMoBSFryq4qpAxUIARUAAAAAGAElAADIQj0AgKJDeAE=&rs=AOn4CLC5NnSK9N-uhHh6dFIZL9pJAnv7yQ', 'https://i.ytimg.com/vi/1kcdLXTPVpU/hq720.jpg?sqp=-oaymwEXCNAFEJQDSFryq4qpAwkIARUAAIhCGAE=&rs=AOn4CLBk-RIMhVWUcEj6RKX6jCM34If4Cw'], 'title': 'John Legend - All of Me (Lyrics)', 'long_desc': None, 'channel': 'spacelifemelody', 'duration': '4:30', 'views': '2,227,624 views', 'publish_time': '6 months ago', 'url_suffix': '/watch?v=1kcdLXTPVpU&pp=ygUJYWxsIG9mIG1l'}, {'id': 'ngq5Aw0Q6rQ', 'thumbnails': ['https://i.ytimg.com/vi/ngq5Aw0Q6rQ/hq720.jpg?sqp=-oaymwEjCOgCEMoBSFryq4qpAxUIARUAAAAAGAElAADIQj0AgKJDeAE=&rs=AOn4CLDasx0am33TkPN3baQzrB5FUHOWQw', 'https://i.ytimg.com/vi/ngq5Aw0Q6rQ/hq720.jpg?sqp=-oaymwEXCNAFEJQDSFryq4qpAwkIARUAAIhCGAE=&rs=AOn4CLA68KI8Rw0QQUg9HISrY6Dp13t9lA'], 'title': 'John Legend - All of Me (Lyrics)', 'long_desc': None, 'channel': 'Taj Tracks', 'duration': '4:30', 'views': '77,314,806 views', 'publish_time': '2 years ago', 'url_suffix': '/watch?v=ngq5Aw0Q6rQ&pp=ygUJYWxsIG9mIG1l'}, {'id': 'ZxGiEoczryg', 'thumbnails': ['https://i.ytimg.com/vi/ZxGiEoczryg/hqdefault.jpg?sqp=-oaymwEjCOADEI4CSFryq4qpAxUIARUAAAAAGAElAADIQj0AgKJDeAE=&rs=AOn4CLA3C5XKObGvVP1DzmLo0EoxwM9LtQ'], 'title': 'Masayoshi Takanaka – All Of Me (1979)', 'long_desc': None, 'channel': 'Clifftop Rest', 'duration': '1:11:16', 'views': '2,744,244 views', 'publish_time': '2 years ago', 'url_suffix': '/watch?v=ZxGiEoczryg&pp=ygUJYWxsIG9mIG1l'}, {'id': 'xwsYvBYZcx4', 'thumbnails': ['https://i.ytimg.com/vi/xwsYvBYZcx4/hq720.jpg?sqp=-oaymwEjCOgCEMoBSFryq4qpAxUIARUAAAAAGAElAADIQj0AgKJDeAE=&rs=AOn4CLCcGkFZl_gic5D1zcvQ_eT-jGMG8w', 'https://i.ytimg.com/vi/xwsYvBYZcx4/hq720.jpg?sqp=-oaymwEXCNAFEJQDSFryq4qpAwkIARUAAIhCGAE=&rs=AOn4CLCozqID_-TOGU91btNEnt5S2QQtAg'], 'title': 'Lindsey Stirling & John Legend - All Of Me (Official Music Video)', 'long_desc': None, 'channel': 'Lindsey Stirling', 'duration': '5:13', 'views': '142,231,972 views', 'publish_time': '9 years ago', 'url_suffix': '/watch?v=xwsYvBYZcx4&pp=ygUJYWxsIG9mIG1l'}, {'id': '6VoT-KrseHA', 'thumbnails': ['https://i.ytimg.com/vi/6VoT-KrseHA/hq720.jpg?sqp=-oaymwEjCOgCEMoBSFryq4qpAxUIARUAAAAAGAElAADIQj0AgKJDeAE=&rs=AOn4CLB_4p6SpfB3bqo81JDtVJqBURAJXw', 'https://i.ytimg.com/vi/6VoT-KrseHA/hq720.jpg?sqp=-oaymwEXCNAFEJQDSFryq4qpAwkIARUAAIhCGAE=&rs=AOn4CLC0jqY6OrlWJrz2iWuE7sD_FO4IZg'], 'title': 'John Legend - All Of Me (Karaoke Version)', 'long_desc': None, 'channel': 'Sing King', 'duration': '4:47', 'views': '427,031 views', 'publish_time': '7 months ago', 'url_suffix': '/watch?v=6VoT-KrseHA&pp=ygUJYWxsIG9mIG1l'}, {'id': 'BNig6xG36i4', 'thumbnails': ['https://i.ytimg.com/vi/BNig6xG36i4/hq720.jpg?sqp=-oaymwE9COgCEMoBSFryq4qpAy8IARUAAAAAGAElAADIQj0AgKJDeAHwAQH4Af4JgALQBYoCDAgAEAEYISBHKH8wDw==&rs=AOn4CLAocrBgNKArsZ3S-boepAg8GALdOQ', 'https://i.ytimg.com/vi/BNig6xG36i4/hq720.jpg?sqp=-oaymwExCNAFEJQDSFryq4qpAyMIARUAAIhCGAHwAQH4Af4JgALQBYoCDAgAEAEYISBHKH8wDw==&rs=AOn4CLAlVKuLarj4sHLHhyaSgDRKSJb-Vg'], 'title': 'Masayoshi Takanaka – All Of Me  (1979)', 'long_desc': None, 'channel': 'Terminal Passage', 'duration': '1:11:41', 'views': '4,707,504 views', 'publish_time': '2 years ago', 'url_suffix': '/watch?v=BNig6xG36i4&pp=ygUJYWxsIG9mIG1l'}, {'id': 'R21EU8SKUM0', 'thumbnails': ['https://i.ytimg.com/vi/R21EU8SKUM0/hq720.jpg?sqp=-oaymwE9COgCEMoBSFryq4qpAy8IARUAAAAAGAElAADIQj0AgKJDeAHwAQH4Af4JgALQBYoCDAgAEAEYaSBpKGkwDw==&rs=AOn4CLBFaNfb4R8hoRv7iHbktvCm-PM1yA', 'https://i.ytimg.com/vi/R21EU8SKUM0/hq720.jpg?sqp=-oaymwExCNAFEJQDSFryq4qpAyMIARUAAIhCGAHwAQH4Af4JgALQBYoCDAgAEAEYaSBpKGkwDw==&rs=AOn4CLBLe9fJlTr3a4HTC8_jKNNygSSlyw'], 'title': 'John Legend - All of Me (Lyrics)', 'long_desc': None, 'channel': 'R&B Lyrics', 'duration': '4:46', 'views': '412,679,227 views', 'publish_time': '9 years ago', 'url_suffix': '/watch?v=R21EU8SKUM0&pp=ygUJYWxsIG9mIG1l'}, {'id': 'QfgJQUiQFes', 'thumbnails': ['https://i.ytimg.com/vi/QfgJQUiQFes/hq720.jpg?sqp=-oaymwEjCOgCEMoBSFryq4qpAxUIARUAAAAAGAElAADIQj0AgKJDeAE=&rs=AOn4CLB-aphV6-b1V9mKY7209EZO0yKJHQ', 'https://i.ytimg.com/vi/QfgJQUiQFes/hq720.jpg?sqp=-oaymwEXCNAFEJQDSFryq4qpAwkIARUAAIhCGAE=&rs=AOn4CLCKzyrkW8aVIgktOXF_EQVRvhYRvg'], 'title': 'John Legend - All of Me (Lyrics)', 'long_desc': None, 'channel': '7clouds', 'duration': '4:30', 'views': '4,741,852 views', 'publish_time': '2 years ago', 'url_suffix': '/watch?v=QfgJQUiQFes&pp=ygUJYWxsIG9mIG1l'}, {'id': 'hUo733Agt4U', 'thumbnails': ['https://i.ytimg.com/vi/hUo733Agt4U/hq720.jpg?sqp=-oaymwEjCOgCEMoBSFryq4qpAxUIARUAAAAAGAElAADIQj0AgKJDeAE=&rs=AOn4CLAHZ1TFFx0KtiLF5sM0Wz-N6s-S-g', 'https://i.ytimg.com/vi/hUo733Agt4U/hq720.jpg?sqp=-oaymwEXCNAFEJQDSFryq4qpAwkIARUAAIhCGAE=&rs=AOn4CLBuHlMZH0HuXF5TF4ES2LCc7qNlDg'], 'title': 'John Legend - All of Me (Lyrics)', 'long_desc': None, 'channel': 'Unique Sound', 'duration': '4:30', 'views': '300,512 views', 'publish_time': '2 months ago', 'url_suffix': '/watch?v=hUo733Agt4U&pp=ygUJYWxsIG9mIG1l'}]\n",
            "/watch?v=450p7goxZqg&pp=ygUJYWxsIG9mIG1l\n",
            "http://www.youtube.com/watch?v=450p7goxZqg&pp=ygUJYWxsIG9mIG1l\n"
          ]
        },
        {
          "output_type": "execute_result",
          "data": {
            "text/plain": [
              "False"
            ]
          },
          "metadata": {},
          "execution_count": 17
        }
      ],
      "source": [
        "from youtube_search import YoutubeSearch\n",
        "import webbrowser\n",
        "mysong = input('Nhap Vao Ten Bai Hat: ')\n",
        "result = YoutubeSearch(mysong, max_results = 10). to_dict()\n",
        "print(result)\n",
        "print(result[0]['url_suffix'])\n",
        "url = 'http://www.youtube.com'+result[0]['url_suffix']\n",
        "print(url)\n",
        "webbrowser.open(url)"
      ]
    },
    {
      "cell_type": "code",
      "source": [
        "pip install --upgrade google-api-core"
      ],
      "metadata": {
        "colab": {
          "base_uri": "https://localhost:8080/"
        },
        "id": "chKjmSHz_qXc",
        "outputId": "f27ba9a6-aa02-4070-8428-8ea41962416e"
      },
      "execution_count": 13,
      "outputs": [
        {
          "output_type": "stream",
          "name": "stdout",
          "text": [
            "Looking in indexes: https://pypi.org/simple, https://us-python.pkg.dev/colab-wheels/public/simple/\n",
            "Requirement already satisfied: google-api-core in /usr/local/lib/python3.9/dist-packages (2.11.0)\n",
            "Requirement already satisfied: protobuf!=3.20.0,!=3.20.1,!=4.21.0,!=4.21.1,!=4.21.2,!=4.21.3,!=4.21.4,!=4.21.5,<5.0.0dev,>=3.19.5 in /usr/local/lib/python3.9/dist-packages (from google-api-core) (3.20.3)\n",
            "Requirement already satisfied: googleapis-common-protos<2.0dev,>=1.56.2 in /usr/local/lib/python3.9/dist-packages (from google-api-core) (1.59.0)\n",
            "Requirement already satisfied: google-auth<3.0dev,>=2.14.1 in /usr/local/lib/python3.9/dist-packages (from google-api-core) (2.17.3)\n",
            "Requirement already satisfied: requests<3.0.0dev,>=2.18.0 in /usr/local/lib/python3.9/dist-packages (from google-api-core) (2.27.1)\n",
            "Requirement already satisfied: six>=1.9.0 in /usr/local/lib/python3.9/dist-packages (from google-auth<3.0dev,>=2.14.1->google-api-core) (1.16.0)\n",
            "Requirement already satisfied: pyasn1-modules>=0.2.1 in /usr/local/lib/python3.9/dist-packages (from google-auth<3.0dev,>=2.14.1->google-api-core) (0.2.8)\n",
            "Requirement already satisfied: cachetools<6.0,>=2.0.0 in /usr/local/lib/python3.9/dist-packages (from google-auth<3.0dev,>=2.14.1->google-api-core) (5.3.0)\n",
            "Requirement already satisfied: rsa<5,>=3.1.4 in /usr/local/lib/python3.9/dist-packages (from google-auth<3.0dev,>=2.14.1->google-api-core) (4.9)\n",
            "Requirement already satisfied: idna<4,>=2.5 in /usr/local/lib/python3.9/dist-packages (from requests<3.0.0dev,>=2.18.0->google-api-core) (3.4)\n",
            "Requirement already satisfied: charset-normalizer~=2.0.0 in /usr/local/lib/python3.9/dist-packages (from requests<3.0.0dev,>=2.18.0->google-api-core) (2.0.12)\n",
            "Requirement already satisfied: urllib3<1.27,>=1.21.1 in /usr/local/lib/python3.9/dist-packages (from requests<3.0.0dev,>=2.18.0->google-api-core) (1.26.15)\n",
            "Requirement already satisfied: certifi>=2017.4.17 in /usr/local/lib/python3.9/dist-packages (from requests<3.0.0dev,>=2.18.0->google-api-core) (2022.12.7)\n",
            "Requirement already satisfied: pyasn1<0.5.0,>=0.4.6 in /usr/local/lib/python3.9/dist-packages (from pyasn1-modules>=0.2.1->google-auth<3.0dev,>=2.14.1->google-api-core) (0.4.8)\n"
          ]
        }
      ]
    },
    {
      "cell_type": "code",
      "source": [
        "from requests.models import to_key_val_list\n",
        "from openpyxl import Workbook\n",
        "from youtube_search import YoutubeSearch\n",
        "import webbrowser\n",
        "data = Workbook()\n",
        "sheet = data.active\n",
        "mysong = input('Xin moi cac ban chon bai hat: ')\n",
        "result = YoutubeSearch(mysong, max_results = 10). to_dict() \n",
        "for i in range(10):\n",
        "  print(result[i]['title'])\n",
        "  print(result[i]['url_suffix'])\n",
        "  url = 'http://www.youtube.com' + result[i]['url_suffix']\n",
        "  print(url)\n",
        "  sheet['A' + str(i+1)] = i+1\n",
        "  sheet['B' + str(i+1)] = result[i]['title']\n",
        "  sheet['C' + str(i+1)] = result[i]['url_suffix']\n",
        "  sheet['D' + str(i+1)] = result[i]['views']\n",
        "data.save('luotxem.xlsx')"
      ],
      "metadata": {
        "colab": {
          "base_uri": "https://localhost:8080/"
        },
        "id": "c-QSJ-sd8s9P",
        "outputId": "efca54d2-fefd-4c2c-9797-6a3271a77d87"
      },
      "execution_count": 22,
      "outputs": [
        {
          "output_type": "stream",
          "name": "stdout",
          "text": [
            "Xin moi cac ban chon bai hat: all of me\n",
            "John Legend - All of Me (Official Video)\n",
            "/watch?v=450p7goxZqg&pp=ygUJYWxsIG9mIG1l\n",
            "http://www.youtube.com/watch?v=450p7goxZqg&pp=ygUJYWxsIG9mIG1l\n",
            "John Legend - All of Me (Lyrics)\n",
            "/watch?v=1kcdLXTPVpU&pp=ygUJYWxsIG9mIG1l\n",
            "http://www.youtube.com/watch?v=1kcdLXTPVpU&pp=ygUJYWxsIG9mIG1l\n",
            "John Legend - All of Me (Lyrics)\n",
            "/watch?v=ngq5Aw0Q6rQ&pp=ygUJYWxsIG9mIG1l\n",
            "http://www.youtube.com/watch?v=ngq5Aw0Q6rQ&pp=ygUJYWxsIG9mIG1l\n",
            "Masayoshi Takanaka – All Of Me (1979)\n",
            "/watch?v=ZxGiEoczryg&pp=ygUJYWxsIG9mIG1l\n",
            "http://www.youtube.com/watch?v=ZxGiEoczryg&pp=ygUJYWxsIG9mIG1l\n",
            "John Legend - All Of Me (Karaoke Version)\n",
            "/watch?v=6VoT-KrseHA&pp=ygUJYWxsIG9mIG1l\n",
            "http://www.youtube.com/watch?v=6VoT-KrseHA&pp=ygUJYWxsIG9mIG1l\n",
            "John Legend - All Of Me (Live on Letterman)\n",
            "/watch?v=s18cJqrBIOk&pp=ygUJYWxsIG9mIG1l\n",
            "http://www.youtube.com/watch?v=s18cJqrBIOk&pp=ygUJYWxsIG9mIG1l\n",
            "Lindsey Stirling & John Legend - All Of Me (Official Music Video)\n",
            "/watch?v=xwsYvBYZcx4&pp=ygUJYWxsIG9mIG1l\n",
            "http://www.youtube.com/watch?v=xwsYvBYZcx4&pp=ygUJYWxsIG9mIG1l\n",
            "John Legend - All of Me (Lyrics)\n",
            "/watch?v=R21EU8SKUM0&pp=ygUJYWxsIG9mIG1l\n",
            "http://www.youtube.com/watch?v=R21EU8SKUM0&pp=ygUJYWxsIG9mIG1l\n",
            "All of Me - John Legend Cover (Luciana Zogbi)\n",
            "/watch?v=39_OmBO9jVg&pp=ygUJYWxsIG9mIG1l\n",
            "http://www.youtube.com/watch?v=39_OmBO9jVg&pp=ygUJYWxsIG9mIG1l\n",
            "All of Me (Jon Schmidt original tune) - The Piano Guys\n",
            "/watch?v=9fAZIQ-vpdw&pp=ygUJYWxsIG9mIG1l\n",
            "http://www.youtube.com/watch?v=9fAZIQ-vpdw&pp=ygUJYWxsIG9mIG1l\n"
          ]
        }
      ]
    },
    {
      "cell_type": "code",
      "source": [],
      "metadata": {
        "id": "WEIufMr_BF3P"
      },
      "execution_count": null,
      "outputs": []
    }
  ]
}