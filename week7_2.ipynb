{
  "nbformat": 4,
  "nbformat_minor": 0,
  "metadata": {
    "colab": {
      "provenance": [],
      "authorship_tag": "ABX9TyPxURwP7V8ob6oiPPMcv1ia",
      "include_colab_link": true
    },
    "kernelspec": {
      "name": "python3",
      "display_name": "Python 3"
    },
    "language_info": {
      "name": "python"
    }
  },
  "cells": [
    {
      "cell_type": "markdown",
      "metadata": {
        "id": "view-in-github",
        "colab_type": "text"
      },
      "source": [
        "<a href=\"https://colab.research.google.com/github/HuynhQuocDan/Artificial-Intelligence/blob/main/week7_2.ipynb\" target=\"_parent\"><img src=\"https://colab.research.google.com/assets/colab-badge.svg\" alt=\"Open In Colab\"/></a>"
      ]
    },
    {
      "cell_type": "code",
      "execution_count": null,
      "metadata": {
        "id": "vs_2tCURtBme"
      },
      "outputs": [],
      "source": [
        "#bai 2 xac dinh cong suat cua xe - đa biến\n",
        "from pandas.core.construction import registry\n",
        "from pandas.core.arrays.datetimes import conversion\n",
        "from sklearn import linear_model\n",
        "import pandas as pd\n",
        "import numpy as np\n",
        "import matplotlib.pyplot as plt\n",
        "url = 'mtcars.csv'\n",
        "data = pd.read_csv(url)\n",
        "data.shape\n",
        "\n",
        "mpx = np.array(['mpx'])\n",
        "disp = np.array (['disp'])\n",
        "hp = np.array(['hp'])\n",
        "wt = np.array(['wt'])"
      ]
    },
    {
      "cell_type": "code",
      "source": [
        "#he so tuong quan\n",
        "correlation_2 = data.corr()\n",
        "print(correlation_2)"
      ],
      "metadata": {
        "colab": {
          "base_uri": "https://localhost:8080/"
        },
        "id": "rBtPkuGGtScx",
        "outputId": "44d45fd8-ce23-45d5-ef91-9f9a870b86d7"
      },
      "execution_count": null,
      "outputs": [
        {
          "output_type": "stream",
          "name": "stdout",
          "text": [
            "           mpg      disp        hp        wt\n",
            "mpg   1.000000 -0.847551 -0.776168 -0.867659\n",
            "disp -0.847551  1.000000  0.790949  0.887980\n",
            "hp   -0.776168  0.790949  1.000000  0.658748\n",
            "wt   -0.867659  0.887980  0.658748  1.000000\n"
          ]
        }
      ]
    },
    {
      "cell_type": "code",
      "source": [
        "#bai 2 xac dinh cong suat cua xe - đa biến\n",
        "from pandas.core.construction import registry\n",
        "from pandas.core.arrays.datetimes import conversion\n",
        "from sklearn import linear_model\n",
        "import pandas as pd\n",
        "import numpy as np\n",
        "import matplotlib.pyplot as plt\n",
        "url = 'mtcars.csv'\n",
        "data = pd.read_csv(url)\n",
        "data.shape\n",
        "\n",
        "mpg = np.array(['mpg'])\n",
        "disp = np.array (['disp'])\n",
        "hp = np.array(['hp'])\n",
        "wt = np.array(['wt'])\n",
        "\n",
        "X = data.drop(data.columns[[0,2]],axis = 1)\n",
        "#data.plot(kind='scatter',x = 'wt',y = 'mpg',figsize = (4,9),color = 'black')\n",
        "\n",
        "\n",
        "model = linear_model.LinearRegression()\n",
        "#cho hoc\n",
        "model.fit(X = pd.DataFrame(data['wt']), y = data['mpg'])\n",
        "print(model.intercept_)\n",
        "print(model.coef_)\n",
        "\n",
        "model.score(pd.DataFrame(data['wt']),data['mpg'])\n",
        "\n",
        "y_pred = model.predict(pd.DataFrame(data['wt']))\n",
        "residual = data['mpg'] - y_pred\n",
        "residual.describe()\n"
      ],
      "metadata": {
        "colab": {
          "base_uri": "https://localhost:8080/"
        },
        "id": "SoEllEF1tjb5",
        "outputId": "e8d68df4-f04c-4b40-e8be-0aea0fe5d5e3"
      },
      "execution_count": null,
      "outputs": [
        {
          "output_type": "stream",
          "name": "stdout",
          "text": [
            "37.28512616734204\n",
            "[-5.34447157]\n"
          ]
        },
        {
          "output_type": "execute_result",
          "data": {
            "text/plain": [
              "count    3.200000e+01\n",
              "mean    -8.215650e-15\n",
              "std      2.996352e+00\n",
              "min     -4.543151e+00\n",
              "25%     -2.364709e+00\n",
              "50%     -1.251956e-01\n",
              "75%      1.409561e+00\n",
              "max      6.872711e+00\n",
              "Name: mpg, dtype: float64"
            ]
          },
          "metadata": {},
          "execution_count": 16
        }
      ]
    },
    {
      "cell_type": "code",
      "source": [
        "data.plot(kind = 'scatter',x = 'wt',y = 'mpg',figsize = (4,4),color = 'black')\n",
        "plt.plot(data['wt'], y_pred, color = 'r')"
      ],
      "metadata": {
        "colab": {
          "base_uri": "https://localhost:8080/",
          "height": 299
        },
        "id": "ZnE9x_3ruUp4",
        "outputId": "08f11ea8-10c6-4ce3-a5b9-97d9f4843ec0"
      },
      "execution_count": null,
      "outputs": [
        {
          "output_type": "execute_result",
          "data": {
            "text/plain": [
              "[<matplotlib.lines.Line2D at 0x7f924234ebb0>]"
            ]
          },
          "metadata": {},
          "execution_count": 15
        },
        {
          "output_type": "display_data",
          "data": {
            "text/plain": [
              "<Figure size 288x288 with 1 Axes>"
            ],
            "image/png": "[encoded data removed]"
          },
          "metadata": {
            "needs_background": "light"
          }
        }
      ]
    },
    {
      "cell_type": "code",
      "source": [
        "#bac 2\n",
        "from pandas.core.construction import registry\n",
        "from pandas.core.arrays.datetimes import conversion\n",
        "from sklearn import linear_model\n",
        "import pandas as pd\n",
        "import numpy as np\n",
        "import matplotlib.pyplot as plt\n",
        "\n",
        "url = 'mtcars.csv'\n",
        "data = pd.read_csv(url)\n",
        "data.shape\n",
        "\n",
        "model_2 = linear_model.LinearRegression()\n",
        "X = pd.DataFrame([data['wt'],data['wt']**2]).T\n",
        "model_2.fit(X, y = data['mpg'])\n",
        "print('Intercept cua mo hinh bac 2')\n",
        "print(model_2.intercept_)\n",
        "print('coeffient cua mo hinh bac 2')\n",
        "print(model_2.coef_)\n",
        "print('do chinh xac cua mo hinh')\n",
        "print(model_2.score(X,data['mpg']))\n",
        "\n",
        "#bac 2\n",
        "range = np.arange(1.5,5.5,0.1)\n",
        "predictor = pd.DataFrame([range,range**2]).T\n",
        "y_pred = model_2.predict(X = predictor)\n",
        "data.plot(kind = 'scatter', x ='wt', y = 'mpg', figsize = (9,9), color = 'b', xlim = (0,7))\n",
        "plt.plot(range, y_pred, color='b')\n"
      ],
      "metadata": {
        "colab": {
          "base_uri": "https://localhost:8080/",
          "height": 730
        },
        "id": "QZh4XC8ayerF",
        "outputId": "7e78e5b7-8ee3-4ec0-c7a2-bcf1e640244e"
      },
      "execution_count": null,
      "outputs": [
        {
          "output_type": "stream",
          "name": "stdout",
          "text": [
            "Intercept cua mo hinh bac 2\n",
            "49.93081094945181\n",
            "coeffient cua mo hinh bac 2\n",
            "[-13.38033708   1.17108689]\n",
            "do chinh xac cua man hinh\n",
            "0.8190613581384094\n"
          ]
        },
        {
          "output_type": "stream",
          "name": "stderr",
          "text": [
            "/usr/local/lib/python3.9/dist-packages/sklearn/base.py:420: UserWarning: X does not have valid feature names, but LinearRegression was fitted with feature names\n",
            "  warnings.warn(\n"
          ]
        },
        {
          "output_type": "execute_result",
          "data": {
            "text/plain": [
              "[<matplotlib.lines.Line2D at 0x7f9f80045880>]"
            ]
          },
          "metadata": {},
          "execution_count": 16
        },
        {
          "output_type": "display_data",
          "data": {
            "text/plain": [
              "<Figure size 648x648 with 1 Axes>"
            ],
            "image/png": "[encoded data removed]"
          },
          "metadata": {
            "needs_background": "light"
          }
        }
      ]
    },
    {
      "cell_type": "code",
      "source": [
        "#bac 3\n",
        "from pandas.core.construction import registry\n",
        "from pandas.core.arrays.datetimes import conversion\n",
        "from sklearn import linear_model\n",
        "import pandas as pd\n",
        "import numpy as np\n",
        "import matplotlib.pyplot as plt\n",
        "\n",
        "url = 'mtcars.csv'\n",
        "data = pd.read_csv(url)\n",
        "data.shape\n",
        "\n",
        "model_3 = linear_model.LinearRegression()\n",
        "X = pd.DataFrame([data['wt'],data['wt']**2,data['wt']**3,data['wt']**4,data['wt']**5]).T\n",
        "model_3.fit(X, y = data['mpg'])\n",
        "print('Intercept cua mo hinh:')\n",
        "print(model_3.intercept_)\n",
        "print('coeffient cua mo hinh:')\n",
        "print(model_3.coef_)\n",
        "print('do chinh xac cua mo hinh')\n",
        "print(model_3.score(X,data['mpg']))\n",
        "\n",
        "#bac 3\n",
        "range = np.arange(1.5,5.5,0.1)\n",
        "predictor = pd.DataFrame([range,range**2,range**3,range**4,range**5]).T\n",
        "y_pred = model_3.predict(X = predictor)\n",
        "data.plot(kind = 'scatter', x ='wt', y = 'mpg', figsize = (9,9), color = 'y', xlim = (0,7))\n",
        "plt.plot(range, y_pred, color='black')\n"
      ],
      "metadata": {
        "colab": {
          "base_uri": "https://localhost:8080/",
          "height": 710
        },
        "id": "kbIgOa1L2xhc",
        "outputId": "1a189036-6ce4-447b-b456-acea9403141c"
      },
      "execution_count": 24,
      "outputs": [
        {
          "output_type": "stream",
          "name": "stdout",
          "text": [
            "Intercept cua mo hinh bac 3\n",
            "-87.71816314301019\n",
            "coeffient cua mo hinh bac 3\n",
            "[ 218.88967608 -147.77842682   45.60934841   -6.70138798    0.37968337]\n",
            "do chinh xac cua man hinh\n",
            "0.8251088272653132\n"
          ]
        },
        {
          "output_type": "stream",
          "name": "stderr",
          "text": [
            "/usr/local/lib/python3.9/dist-packages/sklearn/base.py:420: UserWarning: X does not have valid feature names, but LinearRegression was fitted with feature names\n",
            "  warnings.warn(\n"
          ]
        },
        {
          "output_type": "execute_result",
          "data": {
            "text/plain": [
              "[<matplotlib.lines.Line2D at 0x7f9f7f726910>]"
            ]
          },
          "metadata": {},
          "execution_count": 24
        },
        {
          "output_type": "display_data",
          "data": {
            "text/plain": [
              "<Figure size 648x648 with 1 Axes>"
            ],
            "image/png": "[encoded data removed]"
          },
          "metadata": {
            "needs_background": "light"
          }
        }
      ]
    },
    {
      "cell_type": "code",
      "source": [
        "#bac 10\n",
        "model_10=linear_model.LinearRegression()\n",
        "\n",
        "X= pd.DataFrame([data['wt'],data['wt']**2,data['wt']**3,data['wt']**4,data['wt']**5,data['wt']**6,data['wt']**7,data['wt']**8,data['wt']**9,data['wt']**10,data['wt']**11,data['wt']**12,data['wt']**13,data['wt']**14,data['wt']**15,data['wt']**16,data['wt']**17,data['wt']**18,data['wt']**19,data['wt']**20]).T\n",
        "model_10.fit(X,y=data['mpg'])\n",
        "\n",
        "print(\"Intercept cua mo hinh:\")\n",
        "print(model_10.intercept_)\n",
        "print('Cofienct cua mo hinh:')\n",
        "print(model_10.coef_)\n",
        "print('Do chinh xac cua mo hinh')\n",
        "print(model_10.score(X,data['mpg']))\n",
        "\n",
        "range=np.arange(1.5,5.5,0.1)\n",
        "predictor_10=pd.DataFrame([range,range**2,range**3,range**4,range**5,range**6,range**7,range**8,range**9,range**10,range**11,range**12,range**13,range**14,range**15,range**16,range**17,range**18,range**19,range**20]).T\n",
        "y_pred= model_10.predict(X=predictor_10)\n",
        "data.plot(kind='scatter',x='wt',y='mpg',figsize=(9,9),color='black',xlim=(0,7))\n",
        "plt.plot(range,y_pred,color='blue')"
      ],
      "metadata": {
        "id": "wmxm4e665-C6",
        "colab": {
          "base_uri": "https://localhost:8080/",
          "height": 777
        },
        "outputId": "d899402f-2856-44dc-ef65-ecc4fea5cfc7"
      },
      "execution_count": 30,
      "outputs": [
        {
          "output_type": "stream",
          "name": "stdout",
          "text": [
            "Intercept cua mo hinh:\n",
            "31.60116283297539\n",
            "Cofienct cua mo hinh:\n",
            "[-1.97751688e-01 -4.61457294e-01 -6.73776309e-01 -7.66008671e-01\n",
            " -5.84901227e-01 -7.82144223e-02  5.74178632e-01  9.01634190e-01\n",
            "  4.29779708e-01 -6.08364736e-01 -9.01919647e-01  3.83801294e-01\n",
            "  9.62236538e-01 -1.10739600e+00  5.56319926e-01 -1.62874849e-01\n",
            "  2.96775386e-02 -3.33198739e-03  2.11904686e-04 -5.85903111e-06]\n",
            "Do chinh xac cua mo hinh\n",
            "0.879188626967333\n"
          ]
        },
        {
          "output_type": "stream",
          "name": "stderr",
          "text": [
            "/usr/local/lib/python3.9/dist-packages/sklearn/base.py:420: UserWarning: X does not have valid feature names, but LinearRegression was fitted with feature names\n",
            "  warnings.warn(\n"
          ]
        },
        {
          "output_type": "execute_result",
          "data": {
            "text/plain": [
              "[<matplotlib.lines.Line2D at 0x7f9f7fc4fb20>]"
            ]
          },
          "metadata": {},
          "execution_count": 30
        },
        {
          "output_type": "display_data",
          "data": {
            "text/plain": [
              "<Figure size 648x648 with 1 Axes>"
            ],
            "image/png": "[encoded data removed]"
          },
          "metadata": {
            "needs_background": "light"
          }
        }
      ]
    }
  ]
}