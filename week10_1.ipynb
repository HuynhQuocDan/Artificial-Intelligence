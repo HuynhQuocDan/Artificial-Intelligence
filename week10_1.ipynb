{
  "nbformat": 4,
  "nbformat_minor": 0,
  "metadata": {
    "colab": {
      "provenance": [],
      "mount_file_id": "1Te3GQirWPFSuBcwwf7yn5Fy5nysHa-bT",
      "authorship_tag": "ABX9TyM3L+xugoh4sV1yOANLmao9",
      "include_colab_link": true
    },
    "kernelspec": {
      "name": "python3",
      "display_name": "Python 3"
    },
    "language_info": {
      "name": "python"
    }
  },
  "cells": [
    {
      "cell_type": "markdown",
      "metadata": {
        "id": "view-in-github",
        "colab_type": "text"
      },
      "source": [
        "<a href=\"https://colab.research.google.com/github/HuynhQuocDan/Artificial-Intelligence/blob/main/week10_1.ipynb\" target=\"_parent\"><img src=\"https://colab.research.google.com/assets/colab-badge.svg\" alt=\"Open In Colab\"/></a>"
      ]
    },
    {
      "cell_type": "code",
      "execution_count": 15,
      "metadata": {
        "id": "gOZYNqpTvlZD"
      },
      "outputs": [],
      "source": [
        "# cifar\n",
        "from keras.datasets import cifar100 #lay du lieu, dong nay la duong dan\n",
        "(x_train, y_train), (x_test, y_test) = cifar100.load_data() "
      ]
    },
    {
      "cell_type": "code",
      "source": [
        "x_test.shape"
      ],
      "metadata": {
        "colab": {
          "base_uri": "https://localhost:8080/"
        },
        "id": "Gcr_HXDWzD3s",
        "outputId": "85f4c829-e1c9-4529-ddca-9cc915c1d0ae"
      },
      "execution_count": 16,
      "outputs": [
        {
          "output_type": "execute_result",
          "data": {
            "text/plain": [
              "(10000, 32, 32, 3)"
            ]
          },
          "metadata": {},
          "execution_count": 16
        }
      ]
    },
    {
      "cell_type": "code",
      "source": [
        "y_test.shape"
      ],
      "metadata": {
        "colab": {
          "base_uri": "https://localhost:8080/"
        },
        "id": "G8gIaurCzMdi",
        "outputId": "e8cbc345-b978-4a87-997d-4703df7290c6"
      },
      "execution_count": 17,
      "outputs": [
        {
          "output_type": "execute_result",
          "data": {
            "text/plain": [
              "(10000, 1)"
            ]
          },
          "metadata": {},
          "execution_count": 17
        }
      ]
    },
    {
      "cell_type": "code",
      "source": [
        "x_train = x_train.reshape(50000,32*32*3)\n",
        "x_train = x_train.astype('float32')/255\n",
        "\n",
        "x_test = x_test.reshape(10000,32*32*3)\n",
        "x_test = x_test.astype('float32')/255"
      ],
      "metadata": {
        "id": "MLJUM_AKv9zR"
      },
      "execution_count": 18,
      "outputs": []
    },
    {
      "cell_type": "code",
      "source": [
        "from keras.utils import to_categorical\n",
        "y_train = to_categorical(y_train, 100)\n",
        "y_test = to_categorical(y_test, 100)\n",
        "y_test.shape"
      ],
      "metadata": {
        "colab": {
          "base_uri": "https://localhost:8080/"
        },
        "id": "-JI3D3YZ0N7t",
        "outputId": "a4f411ec-56cc-4b41-9ce7-b3c476ed9874"
      },
      "execution_count": 19,
      "outputs": [
        {
          "output_type": "execute_result",
          "data": {
            "text/plain": [
              "(10000, 100)"
            ]
          },
          "metadata": {},
          "execution_count": 19
        }
      ]
    },
    {
      "cell_type": "code",
      "source": [
        "from keras.models import Sequential\n",
        "from keras.layers import Dense\n",
        "model = Sequential()\n",
        "model.add(Dense(2000, activation = 'relu', input_shape = (32*32*3,)))\n",
        "model.add(Dense(100, activation = 'softmax'))\n",
        "model.summary\n",
        "\n",
        "model.compile(optimizer = 'rmsprop', loss = 'categorical_crossentropy',metrics = ['accuracy'])\n",
        "model.fit(x_train, y_train, epochs = 10, batch_size = 128)\n",
        "model.save('my_model')\n",
        "\n",
        "test_loss, test_acc = model.evaluate(x_test, y_test)\n",
        "print('test_accuracy',test_acc)\n",
        "print('test_loss:',test_loss)\n"
      ],
      "metadata": {
        "colab": {
          "base_uri": "https://localhost:8080/"
        },
        "id": "Pw7ux1fnw0iD",
        "outputId": "42f1f20d-bc25-431c-f686-3850867a1881"
      },
      "execution_count": 20,
      "outputs": [
        {
          "output_type": "stream",
          "name": "stdout",
          "text": [
            "Epoch 1/10\n",
            "391/391 [==============================] - 49s 123ms/step - loss: 4.3380 - accuracy: 0.0720\n",
            "Epoch 2/10\n",
            "391/391 [==============================] - 48s 122ms/step - loss: 3.7422 - accuracy: 0.1344\n",
            "Epoch 3/10\n",
            "391/391 [==============================] - 47s 120ms/step - loss: 3.5999 - accuracy: 0.1611\n",
            "Epoch 4/10\n",
            "391/391 [==============================] - 47s 120ms/step - loss: 3.5013 - accuracy: 0.1776\n",
            "Epoch 5/10\n",
            "391/391 [==============================] - 48s 122ms/step - loss: 3.4263 - accuracy: 0.1909\n",
            "Epoch 6/10\n",
            "391/391 [==============================] - 46s 117ms/step - loss: 3.3682 - accuracy: 0.2048\n",
            "Epoch 7/10\n",
            "391/391 [==============================] - 48s 122ms/step - loss: 3.3184 - accuracy: 0.2149\n",
            "Epoch 8/10\n",
            "391/391 [==============================] - 46s 118ms/step - loss: 3.2757 - accuracy: 0.2205\n",
            "Epoch 9/10\n",
            "391/391 [==============================] - 49s 125ms/step - loss: 3.2338 - accuracy: 0.2276\n",
            "Epoch 10/10\n",
            "391/391 [==============================] - 49s 125ms/step - loss: 3.1906 - accuracy: 0.2385\n"
          ]
        },
        {
          "output_type": "stream",
          "name": "stderr",
          "text": [
            "WARNING:absl:Found untraced functions such as _update_step_xla while saving (showing 1 of 1). These functions will not be directly callable after loading.\n"
          ]
        },
        {
          "output_type": "stream",
          "name": "stdout",
          "text": [
            "313/313 [==============================] - 5s 16ms/step - loss: 3.5533 - accuracy: 0.1912\n",
            "test_accuracy 0.19120000302791595\n",
            "test_loss: 3.553257465362549\n"
          ]
        }
      ]
    },
    {
      "cell_type": "code",
      "source": [
        "from keras.models import load_model\n",
        "model.save('/content/drive/MyDrive/model_w10.h5')"
      ],
      "metadata": {
        "id": "-wb3XpNg3eh7"
      },
      "execution_count": 23,
      "outputs": []
    },
    {
      "cell_type": "code",
      "source": [],
      "metadata": {
        "id": "_PoWycQm-gCO"
      },
      "execution_count": null,
      "outputs": []
    }
  ]
}