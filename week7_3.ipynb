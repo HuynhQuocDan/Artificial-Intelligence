{
  "nbformat": 4,
  "nbformat_minor": 0,
  "metadata": {
    "colab": {
      "provenance": [],
      "authorship_tag": "ABX9TyO5LFRwWuMK1JVA0tQYf522",
      "include_colab_link": true
    },
    "kernelspec": {
      "name": "python3",
      "display_name": "Python 3"
    },
    "language_info": {
      "name": "python"
    }
  },
  "cells": [
    {
      "cell_type": "markdown",
      "metadata": {
        "id": "view-in-github",
        "colab_type": "text"
      },
      "source": [
        "<a href=\"https://colab.research.google.com/github/HuynhQuocDan/Artificial-Intelligence/blob/main/week7_3.ipynb\" target=\"_parent\"><img src=\"https://colab.research.google.com/assets/colab-badge.svg\" alt=\"Open In Colab\"/></a>"
      ]
    },
    {
      "cell_type": "code",
      "execution_count": 27,
      "metadata": {
        "colab": {
          "base_uri": "https://localhost:8080/"
        },
        "id": "Gm_XKY9t-Kfd",
        "outputId": "8577a011-a373-4e0c-dae7-1345d2768218"
      },
      "outputs": [
        {
          "output_type": "execute_result",
          "data": {
            "text/plain": [
              "(10,)"
            ]
          },
          "metadata": {},
          "execution_count": 27
        }
      ],
      "source": [
        "import numpy as np\n",
        "import matplotlib.pyplot as plt\n",
        "import pandas as pd\n",
        "import seaborn as sns\n",
        "\n",
        "data = pd.read_csv('50_Startups.csv')\n",
        "data.head()\n",
        "\n",
        "#xóa đi các cột không liên quan\n",
        "X = data.drop(['State','Profit'], axis = 1)\n",
        "y = data['Profit']\n",
        "X.head()\n",
        "\n",
        "\n"
      ]
    },
    {
      "cell_type": "code",
      "source": [
        "#ve do thi theo bang X\n",
        "sns.pairplot(X)"
      ],
      "metadata": {
        "id": "BmAhyWGhHWw4"
      },
      "execution_count": null,
      "outputs": []
    },
    {
      "cell_type": "code",
      "source": [
        "#ve bang theo X phan bo mau cam o goc\n",
        "corr=X.corr()\n",
        "sns.heatmap(corr,annot = True)"
      ],
      "metadata": {
        "id": "0U-J-gFRHUXQ"
      },
      "execution_count": null,
      "outputs": []
    },
    {
      "cell_type": "code",
      "source": [
        "#chuẩn hóa dữ liệu\n",
        "from sklearn.preprocessing import StandardScaler\n",
        "sc = StandardScaler()\n",
        "X = sc.fit_transform(X)\n",
        "\n",
        "from sklearn.model_selection import train_test_split\n",
        "X_train, X_test, y_train, y_test = train_test_split(X,y, test_size = 0.2, random_state = 0)\n",
        "\n",
        "X_train.shape\n",
        "X_test.shape\n",
        "y_train.shape\n",
        "y_test.shape\n"
      ],
      "metadata": {
        "id": "Tu6oFriDHblW"
      },
      "execution_count": null,
      "outputs": []
    },
    {
      "cell_type": "code",
      "source": [
        "from sklearn.linear_model import LinearRegression\n",
        "regressor = LinearRegression()\n",
        "regressor.fit(X_train,y_train)\n",
        "y_pred = regressor.predict(X_test).round(1)\n",
        "calculation = pd.DataFrame(np.c_[y_test,y_pred], columns = ['Original Profit','Predided Profit'])\n",
        "\n",
        "print('Intercept cua mo hinh bac 2')\n",
        "print(regressor.intercept_)\n",
        "print('coeffient cua mo hinh bac 2')\n",
        "print(regressor.coef_)\n",
        "print('do chinh xac khi hoc')\n",
        "print(regressor.score(X_train,y_train))\n",
        "print('do chinh xac khi test')\n",
        "print(regressor.score(X_test,y_test))"
      ],
      "metadata": {
        "colab": {
          "base_uri": "https://localhost:8080/"
        },
        "id": "PiOPBj5QDHW1",
        "outputId": "fd76f3cf-914e-4681-f41e-e6e55efc439c"
      },
      "execution_count": 26,
      "outputs": [
        {
          "output_type": "stream",
          "name": "stdout",
          "text": [
            "Intercept cua mo hinh bac 2\n",
            "111297.71256204927\n",
            "coeffient cua mo hinh bac 2\n",
            "[35391.2501208    815.21987542  4202.06618916]\n",
            "do chinh xac khi hoc\n",
            "0.9499572530324031\n",
            "do chinh xac khi test\n",
            "0.939395591782057\n"
          ]
        }
      ]
    }
  ]
}