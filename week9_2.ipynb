{
  "nbformat": 4,
  "nbformat_minor": 0,
  "metadata": {
    "colab": {
      "provenance": [],
      "authorship_tag": "ABX9TyPTbVwO8LyhorhwFwm5im4u",
      "include_colab_link": true
    },
    "kernelspec": {
      "name": "python3",
      "display_name": "Python 3"
    },
    "language_info": {
      "name": "python"
    }
  },
  "cells": [
    {
      "cell_type": "markdown",
      "metadata": {
        "id": "view-in-github",
        "colab_type": "text"
      },
      "source": [
        "<a href=\"https://colab.research.google.com/github/HuynhQuocDan/Artificial-Intelligence/blob/main/week9_2.ipynb\" target=\"_parent\"><img src=\"https://colab.research.google.com/assets/colab-badge.svg\" alt=\"Open In Colab\"/></a>"
      ]
    },
    {
      "cell_type": "code",
      "source": [
        "from keras.datasets import mnist # bộ chữ viết tay mnist của keras\n",
        "import matplotlib.pyplot as plt\n",
        "(train_images, train_labels),(test_images,test_labels) = mnist.load_data()\n",
        "train_images.shape"
      ],
      "metadata": {
        "colab": {
          "base_uri": "https://localhost:8080/"
        },
        "id": "Z3VSBZzrxZHd",
        "outputId": "37b62f60-0827-4b76-a9fd-4898c1e95445"
      },
      "execution_count": 41,
      "outputs": [
        {
          "output_type": "execute_result",
          "data": {
            "text/plain": [
              "(60000, 28, 28)"
            ]
          },
          "metadata": {},
          "execution_count": 41
        }
      ]
    },
    {
      "cell_type": "code",
      "source": [
        "train_labels.shape"
      ],
      "metadata": {
        "colab": {
          "base_uri": "https://localhost:8080/"
        },
        "id": "HMC_o8To2qjw",
        "outputId": "122a608d-94ff-43c1-c294-706cd5e6f019"
      },
      "execution_count": 38,
      "outputs": [
        {
          "output_type": "execute_result",
          "data": {
            "text/plain": [
              "(60000,)"
            ]
          },
          "metadata": {},
          "execution_count": 38
        }
      ]
    },
    {
      "cell_type": "code",
      "source": [
        "#hien gia tri\n",
        "hinh = train_images[10]\n",
        "plt.imshow(hinh, cmap = plt.cm.binary)\n",
        "plt.show\n",
        "print('số này là: ',train_labels[10])"
      ],
      "metadata": {
        "colab": {
          "base_uri": "https://localhost:8080/",
          "height": 282
        },
        "id": "28k6uWs-0nSD",
        "outputId": "735386b9-72e3-44f7-f897-c532ddd769e9"
      },
      "execution_count": 42,
      "outputs": [
        {
          "output_type": "stream",
          "name": "stdout",
          "text": [
            "số này là:  3\n"
          ]
        },
        {
          "output_type": "display_data",
          "data": {
            "text/plain": [
              "<Figure size 432x288 with 1 Axes>"
            ],
            "image/png": "[encoded data removed]"
          },
          "metadata": {
            "needs_background": "light"
          }
        }
      ]
    },
    {
      "cell_type": "code",
      "source": [
        "for i in range(10):\n",
        "  plt.subplot(3,5,i+1) #3hang va 5cot\n",
        "  plt.tight_layout()\n",
        "  plt.imshow(train_images[i],cmap = 'gray',interpolation = 'none')\n",
        "  plt.title('Số: {}'.format(train_labels[i]))\n",
        "  plt.xticks([])\n",
        "  plt.yticks([])\n"
      ],
      "metadata": {
        "colab": {
          "base_uri": "https://localhost:8080/",
          "height": 196
        },
        "id": "V_LbiFQ_1KUB",
        "outputId": "5b063676-64ea-45f3-f5b3-83583e36316d"
      },
      "execution_count": 28,
      "outputs": [
        {
          "output_type": "display_data",
          "data": {
            "text/plain": [
              "<Figure size 432x288 with 10 Axes>"
            ],
            "image/png": "[encoded data removed]"
          },
          "metadata": {}
        }
      ]
    },
    {
      "cell_type": "code",
      "source": [
        "from keras import models\n",
        "from keras.models import Sequential\n",
        "from keras.layers import Dense\n",
        "\n",
        "model = models.Sequential()\n",
        "model.add(Dense(512,input_shape=(784,),activation='relu'))\n",
        "model.add(Dense(10, activation = 'softmax'))\n",
        "\n",
        "train_images = train_images.reshape(60000,784, 1) \n",
        "train_images = train_images.astype('float32')/255\n",
        "test_images = test_images.reshape(10000,784, 1)\n",
        "test_images = test_images.astype('float32')/255"
      ],
      "metadata": {
        "id": "TH-ZQh5JABUa"
      },
      "execution_count": 70,
      "outputs": []
    },
    {
      "cell_type": "code",
      "source": [
        "#chuyen sang 1 heat encoding\n",
        "from keras.utils import to_categorical\n",
        "train_label = to_categorical(train_labels, 10)\n",
        "test_label  = to_categorical(test_labels, 10)\n"
      ],
      "metadata": {
        "id": "hVSkQME-5lTP"
      },
      "execution_count": 71,
      "outputs": []
    },
    {
      "cell_type": "code",
      "source": [
        "model.compile(optimizer = 'rmsprop', loss = 'categorical_crossentropy',metrics = ['accuracy'])\n",
        "model.fit(train_images, train_label, epochs = 10, batch_size = 128) # chi hoc 10 lan, moi lan hoc 128 du lieu\n",
        "test_loss, test_acc = model.evaluate(test_images, test_label)\n",
        "print('test_accuracy',test_acc)\n",
        "print('test_loss:',test_loss)\n"
      ],
      "metadata": {
        "colab": {
          "base_uri": "https://localhost:8080/"
        },
        "id": "CNNkJpVGACWD",
        "outputId": "4e4a336d-3a2b-4c06-cdcb-86c6a421ade5"
      },
      "execution_count": 74,
      "outputs": [
        {
          "output_type": "stream",
          "name": "stdout",
          "text": [
            "Epoch 1/10\n",
            "469/469 [==============================] - 6s 11ms/step - loss: 2.3013 - accuracy: 0.1124\n",
            "Epoch 2/10\n",
            "469/469 [==============================] - 5s 10ms/step - loss: 2.3012 - accuracy: 0.1124\n",
            "Epoch 3/10\n",
            "469/469 [==============================] - 5s 11ms/step - loss: 2.3013 - accuracy: 0.1124\n",
            "Epoch 4/10\n",
            "469/469 [==============================] - 4s 9ms/step - loss: 2.3012 - accuracy: 0.1124\n",
            "Epoch 5/10\n",
            "469/469 [==============================] - 6s 12ms/step - loss: 2.3013 - accuracy: 0.1124\n",
            "Epoch 6/10\n",
            "469/469 [==============================] - 4s 9ms/step - loss: 2.3013 - accuracy: 0.1124\n",
            "Epoch 7/10\n",
            "469/469 [==============================] - 6s 12ms/step - loss: 2.3013 - accuracy: 0.1124\n",
            "Epoch 8/10\n",
            "469/469 [==============================] - 5s 11ms/step - loss: 2.3013 - accuracy: 0.1124\n",
            "Epoch 9/10\n",
            "469/469 [==============================] - 5s 11ms/step - loss: 2.3013 - accuracy: 0.1124\n",
            "Epoch 10/10\n",
            "469/469 [==============================] - 6s 12ms/step - loss: 2.3012 - accuracy: 0.1124\n",
            "313/313 [==============================] - 1s 3ms/step - loss: 2.3010 - accuracy: 0.1135\n",
            "test_accuracy 0.11349999904632568\n",
            "test_loss: 2.3010380268096924\n"
          ]
        }
      ]
    },
    {
      "cell_type": "code",
      "source": [
        "model.save('model1.hS')"
      ],
      "metadata": {
        "colab": {
          "base_uri": "https://localhost:8080/"
        },
        "id": "hfrAxv13CaGD",
        "outputId": "41d20a68-c4af-4163-e511-3c28001f0f6e"
      },
      "execution_count": 78,
      "outputs": [
        {
          "output_type": "stream",
          "name": "stderr",
          "text": [
            "WARNING:absl:Found untraced functions such as _update_step_xla while saving (showing 1 of 1). These functions will not be directly callable after loading.\n"
          ]
        }
      ]
    },
    {
      "cell_type": "code",
      "source": [
        "model11=load_model('model1.hS')\n",
        "label1=model11.predict(test_image[10])"
      ],
      "metadata": {
        "colab": {
          "base_uri": "https://localhost:8080/",
          "height": 182
        },
        "id": "YJ-GAzMHDDpe",
        "outputId": "798d7269-b751-44d6-87be-b7f05c4be8fa"
      },
      "execution_count": 79,
      "outputs": [
        {
          "output_type": "error",
          "ename": "NameError",
          "evalue": "ignored",
          "traceback": [
            "\u001b[0;31m---------------------------------------------------------------------------\u001b[0m",
            "\u001b[0;31mNameError\u001b[0m                                 Traceback (most recent call last)",
            "\u001b[0;32m<ipython-input-79-1ef5d79995f3>\u001b[0m in \u001b[0;36m<module>\u001b[0;34m\u001b[0m\n\u001b[0;32m----> 1\u001b[0;31m \u001b[0mmodel11\u001b[0m\u001b[0;34m=\u001b[0m\u001b[0mload_model\u001b[0m\u001b[0;34m(\u001b[0m\u001b[0;34m'model1.hS'\u001b[0m\u001b[0;34m)\u001b[0m\u001b[0;34m\u001b[0m\u001b[0;34m\u001b[0m\u001b[0m\n\u001b[0m\u001b[1;32m      2\u001b[0m \u001b[0mlabel1\u001b[0m\u001b[0;34m=\u001b[0m\u001b[0mmodel11\u001b[0m\u001b[0;34m.\u001b[0m\u001b[0mpredict\u001b[0m\u001b[0;34m(\u001b[0m\u001b[0mtest_image\u001b[0m\u001b[0;34m[\u001b[0m\u001b[0;36m10\u001b[0m\u001b[0;34m]\u001b[0m\u001b[0;34m)\u001b[0m\u001b[0;34m\u001b[0m\u001b[0;34m\u001b[0m\u001b[0m\n",
            "\u001b[0;31mNameError\u001b[0m: name 'load_model' is not defined"
          ]
        }
      ]
    },
    {
      "cell_type": "code",
      "source": [],
      "metadata": {
        "id": "rSZxLD_bDLx7"
      },
      "execution_count": null,
      "outputs": []
    },
    {
      "cell_type": "code",
      "source": [],
      "metadata": {
        "id": "frfbn49qEOFV"
      },
      "execution_count": null,
      "outputs": []
    }
  ]
}